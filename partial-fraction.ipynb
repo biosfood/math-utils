{
 "cells": [
  {
   "cell_type": "code",
   "execution_count": null,
   "id": "28e11e49-3615-4a78-ae04-0615c32cad48",
   "metadata": {},
   "outputs": [],
   "source": [
    "import sympy\n",
    "from sympy.solvers import solve\n",
    "from sympy.abc import y,z, a, b, c\n",
    "x = sympy.Symbol(\"x\", real=True)"
   ]
  },
  {
   "cell_type": "code",
   "execution_count": null,
   "id": "3ccb78ad-504f-496e-99bf-fa618e88f5b4",
   "metadata": {},
   "outputs": [],
   "source": [
    "p = lambda x: 8*x\n",
    "q = lambda q: (x**2-1)*(x-1)**2\n",
    "\n",
    "p = lambda x: 1\n",
    "q = lambda x: (x**8-1)*(x**2+1)"
   ]
  },
  {
   "cell_type": "code",
   "execution_count": null,
   "id": "649852cf-8c9e-4a37-ac82-2cb818384028",
   "metadata": {},
   "outputs": [],
   "source": [
    "_, factors = sympy.factor_list(q(x), x, extension=[sympy.I, sympy.sqrt(2)])\n",
    "facts = {}\n",
    "for factor in factors:\n",
    "    if factor[0] in facts:\n",
    "        facts[factor[0]] += factor[1]\n",
    "    else:\n",
    "        facts[factor[0]] = factor[1]\n",
    "\n",
    "letters = map(chr, range(65, 123))\n",
    "\n",
    "symbols = []\n",
    "\n",
    "term = 0\n",
    "print(f\"factors: {facts}\")\n",
    "for fact, mult in facts.items():\n",
    "    nst = solve(fact - x- a, a)[0]\n",
    "    if nst.is_real:\n",
    "        for i in range(mult):\n",
    "            symbol = sympy.Symbol(next(letters))\n",
    "            term += symbol / (fact**(i+1))\n",
    "            symbols.append(symbol)\n",
    "    elif sympy.im(nst) > 0:\n",
    "        result = solve(fact * sympy.conjugate(fact) - ((x-b)**2 - c), b,c, dict=True)[0]\n",
    "        beta, gamma = result[b], result[c]\n",
    "        for i in range(mult):\n",
    "            A = sympy.Symbol(next(letters))\n",
    "            B = sympy.Symbol(next(letters))\n",
    "            symbols.append(A)\n",
    "            symbols.append(B)\n",
    "            term += (A*x+B)/(((x-beta)**2-gamma))**(i+1)\n",
    "term"
   ]
  },
  {
   "cell_type": "code",
   "execution_count": null,
   "id": "0b8d35f7-6b82-45a3-b4f4-50e895b79365",
   "metadata": {},
   "outputs": [],
   "source": [
    "result = solve(term - p(x)/q(x), symbols)\n",
    "result"
   ]
  },
  {
   "cell_type": "code",
   "execution_count": null,
   "id": "aea53cb0-64a2-411d-ac1f-61388cc89dd5",
   "metadata": {},
   "outputs": [],
   "source": [
    "sympy.simplify(p(x) * term.subs(result))"
   ]
  },
  {
   "cell_type": "code",
   "execution_count": null,
   "id": "71ab4c78-5dcc-4b0b-93c7-aa71df98e8de",
   "metadata": {},
   "outputs": [],
   "source": []
  }
 ],
 "metadata": {
  "kernelspec": {
   "display_name": "Python (main)",
   "language": "python",
   "name": "main"
  },
  "language_info": {
   "codemirror_mode": {
    "name": "ipython",
    "version": 3
   },
   "file_extension": ".py",
   "mimetype": "text/x-python",
   "name": "python",
   "nbconvert_exporter": "python",
   "pygments_lexer": "ipython3",
   "version": "3.11.6"
  }
 },
 "nbformat": 4,
 "nbformat_minor": 5
}
