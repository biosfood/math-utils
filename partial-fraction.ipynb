{
 "cells": [
  {
   "cell_type": "code",
   "execution_count": 1,
   "id": "28e11e49-3615-4a78-ae04-0615c32cad48",
   "metadata": {},
   "outputs": [],
   "source": [
    "import sympy\n",
    "from sympy.solvers import solve\n",
    "from sympy.abc import y,z, a, b, c\n",
    "x = sympy.Symbol(\"x\", real=True)\n",
    "from IPython.display import display\n",
    "sympy.init_printing()"
   ]
  },
  {
   "cell_type": "code",
   "execution_count": 2,
   "id": "3ccb78ad-504f-496e-99bf-fa618e88f5b4",
   "metadata": {},
   "outputs": [],
   "source": [
    "exercises = [\n",
    "    (lambda x: x**3, lambda x: (x-1)),\n",
    "    (lambda x: x**4+x**2, lambda x: x**4-1),\n",
    "    (lambda x: x**2+x+1, lambda x: x**2+1),\n",
    "    (lambda x: 8*x, lambda x: (x**2-1)*(x-1)**2),\n",
    "    (lambda x: 1, lambda x: (x**8-1)*(x**2+1))\n",
    "]"
   ]
  },
  {
   "cell_type": "code",
   "execution_count": 3,
   "id": "649852cf-8c9e-4a37-ac82-2cb818384028",
   "metadata": {},
   "outputs": [
    {
     "name": "stdout",
     "output_type": "stream",
     "text": [
      "Term:\n"
     ]
    },
    {
     "data": {
      "image/png": "[encoded data removed]",
      "text/latex": [
       "$\\displaystyle \\frac{x^{3}}{x - 1} = x^{2} + x + 1 + \\frac{1}{x - 1} = \\frac{A}{x - 1} + x^{2} + x + 1 = x^{2} + x + 1 + \\frac{1}{x - 1}$"
      ],
      "text/plain": [
       "   3                                                                \n",
       "  x      2             1       A      2            2             1  \n",
       "───── = x  + x + 1 + ───── = ───── + x  + x + 1 = x  + x + 1 + ─────\n",
       "x - 1                x - 1   x - 1                             x - 1"
      ]
     },
     "metadata": {},
     "output_type": "display_data"
    },
    {
     "name": "stdout",
     "output_type": "stream",
     "text": [
      "factors: {x - 1: 1}, Solution: {A: 1}\n"
     ]
    },
    {
     "data": {
      "image/png": "[encoded data removed]",
      "text/latex": [
       "$\\displaystyle \\int \\left(x^{2} + x + 1 + \\frac{1}{x - 1}\\right)\\, dx = c + \\frac{x^{3}}{3} + \\frac{x^{2}}{2} + x + \\log{\\left(x - 1 \\right)}$"
      ],
      "text/plain": [
       "⌠                                3    2                 \n",
       "⎮ ⎛ 2             1  ⎞          x    x                  \n",
       "⎮ ⎜x  + x + 1 + ─────⎟ dx = c + ── + ── + x + log(x - 1)\n",
       "⎮ ⎝             x - 1⎠          3    2                  \n",
       "⌡                                                       "
      ]
     },
     "metadata": {},
     "output_type": "display_data"
    },
    {
     "name": "stdout",
     "output_type": "stream",
     "text": [
      "Term:\n"
     ]
    },
    {
     "data": {
      "image/png": "[encoded data removed]",
      "text/latex": [
       "$\\displaystyle \\frac{x^{4} + x^{2}}{x^{4} - 1} = \\frac{x^{2} + 1}{x^{4} - 1} + 1 = \\frac{A}{x - 1} + \\frac{D}{x + 1} + 1 + \\frac{B x + C}{x^{2} + 1} = 1 - \\frac{1}{2 \\left(x + 1\\right)} + \\frac{1}{2 \\left(x - 1\\right)}$"
      ],
      "text/plain": [
       " 4    2    2                                                                  \n",
       "x  + x    x  + 1         A       D         B⋅x + C           1           1    \n",
       "─────── = ────── + 1 = ───── + ───── + 1 + ─────── = 1 - ───────── + ─────────\n",
       "  4        4           x - 1   x + 1         2           2⋅(x + 1)   2⋅(x - 1)\n",
       " x  - 1   x  - 1                            x  + 1                            "
      ]
     },
     "metadata": {},
     "output_type": "display_data"
    },
    {
     "name": "stdout",
     "output_type": "stream",
     "text": [
      "factors: {x - 1: 1, x - I: 1, x + I: 1, x + 1: 1}, Solution: {A: 1/2, B: 0, C: 0, D: -1/2}\n"
     ]
    },
    {
     "data": {
      "image/png": "[encoded data removed]",
      "text/latex": [
       "$\\displaystyle \\int \\left(1 - \\frac{1}{2 \\left(x + 1\\right)} + \\frac{1}{2 \\left(x - 1\\right)}\\right)\\, dx = c + x + \\frac{\\log{\\left(x - 1 \\right)}}{2} - \\frac{\\log{\\left(x + 1 \\right)}}{2}$"
      ],
      "text/plain": [
       "⌠                                                                 \n",
       "⎮ ⎛        1           1    ⎞              log(x - 1)   log(x + 1)\n",
       "⎮ ⎜1 - ───────── + ─────────⎟ dx = c + x + ────────── - ──────────\n",
       "⎮ ⎝    2⋅(x + 1)   2⋅(x - 1)⎠                  2            2     \n",
       "⌡                                                                 "
      ]
     },
     "metadata": {},
     "output_type": "display_data"
    },
    {
     "name": "stdout",
     "output_type": "stream",
     "text": [
      "Term:\n"
     ]
    },
    {
     "data": {
      "image/png": "[encoded data removed]",
      "text/latex": [
       "$\\displaystyle \\frac{x^{2} + x + 1}{x^{2} + 1} = \\frac{x}{x^{2} + 1} + 1 = 1 + \\frac{A x + B}{x^{2} + 1} = \\frac{x}{x^{2} + 1} + 1$"
      ],
      "text/plain": [
       " 2                                                \n",
       "x  + x + 1     x              A⋅x + B     x       \n",
       "────────── = ────── + 1 = 1 + ─────── = ────── + 1\n",
       "   2          2                 2        2        \n",
       "  x  + 1     x  + 1            x  + 1   x  + 1    "
      ]
     },
     "metadata": {},
     "output_type": "display_data"
    },
    {
     "name": "stdout",
     "output_type": "stream",
     "text": [
      "factors: {x - I: 1, x + I: 1}, Solution: {A: 1, B: 0}\n"
     ]
    },
    {
     "data": {
      "image/png": "[encoded data removed]",
      "text/latex": [
       "$\\displaystyle \\int \\left(\\frac{x}{x^{2} + 1} + 1\\right)\\, dx = c + x + \\frac{\\log{\\left(x^{2} + 1 \\right)}}{2}$"
      ],
      "text/plain": [
       "⌠                              ⎛ 2    ⎞\n",
       "⎮ ⎛  x       ⎞              log⎝x  + 1⎠\n",
       "⎮ ⎜────── + 1⎟ dx = c + x + ───────────\n",
       "⎮ ⎜ 2        ⎟                   2     \n",
       "⎮ ⎝x  + 1    ⎠                         \n",
       "⌡                                      "
      ]
     },
     "metadata": {},
     "output_type": "display_data"
    },
    {
     "name": "stdout",
     "output_type": "stream",
     "text": [
      "Term:\n"
     ]
    },
    {
     "data": {
      "image/png": "[encoded data removed]",
      "text/latex": [
       "$\\displaystyle \\frac{8 x}{\\left(x - 1\\right)^{2} \\left(x^{2} - 1\\right)} = \\frac{8 x}{\\left(x - 1\\right)^{2} \\left(x^{2} - 1\\right)} = \\frac{A}{x - 1} + \\frac{B}{\\left(x - 1\\right)^{2}} + \\frac{C}{\\left(x - 1\\right)^{3}} + \\frac{D}{x + 1} = \\frac{1}{x + 1} - \\frac{1}{x - 1} + \\frac{2}{\\left(x - 1\\right)^{2}} + \\frac{4}{\\left(x - 1\\right)^{3}}$"
      ],
      "text/plain": [
       "       8⋅x                 8⋅x            A        B          C         D       1       1        2          4    \n",
       "───────────────── = ───────────────── = ───── + ──────── + ──────── + ───── = ───── - ───── + ──────── + ────────\n",
       "       2 ⎛ 2    ⎞          2 ⎛ 2    ⎞   x - 1          2          3   x + 1   x + 1   x - 1          2          3\n",
       "(x - 1) ⋅⎝x  - 1⎠   (x - 1) ⋅⎝x  - 1⎠           (x - 1)    (x - 1)                            (x - 1)    (x - 1) "
      ]
     },
     "metadata": {},
     "output_type": "display_data"
    },
    {
     "name": "stdout",
     "output_type": "stream",
     "text": [
      "factors: {x - 1: 3, x + 1: 1}, Solution: {A: -1, B: 2, C: 4, D: 1}\n"
     ]
    },
    {
     "data": {
      "image/png": "[encoded data removed]",
      "text/latex": [
       "$\\displaystyle \\int \\left(\\frac{1}{x + 1} - \\frac{1}{x - 1} + \\frac{2}{\\left(x - 1\\right)^{2}} + \\frac{4}{\\left(x - 1\\right)^{3}}\\right)\\, dx = c - \\frac{8 x}{4 x^{2} - 8 x + 4} - \\log{\\left(x - 1 \\right)} + \\log{\\left(x + 1 \\right)}$"
      ],
      "text/plain": [
       "⌠                                                                                        \n",
       "⎮ ⎛  1       1        2          4    ⎞               8⋅x                                \n",
       "⎮ ⎜───── - ───── + ──────── + ────────⎟ dx = c - ────────────── - log(x - 1) + log(x + 1)\n",
       "⎮ ⎜x + 1   x - 1          2          3⎟             2                                    \n",
       "⎮ ⎝                (x - 1)    (x - 1) ⎠          4⋅x  - 8⋅x + 4                          \n",
       "⌡                                                                                        "
      ]
     },
     "metadata": {},
     "output_type": "display_data"
    },
    {
     "name": "stdout",
     "output_type": "stream",
     "text": [
      "Term:\n"
     ]
    },
    {
     "data": {
      "image/png": "[encoded data removed]",
      "text/latex": [
       "$\\displaystyle \\frac{1}{\\left(x^{2} + 1\\right) \\left(x^{8} - 1\\right)} = \\frac{1}{\\left(x^{2} + 1\\right) \\left(x^{8} - 1\\right)} = \\frac{A}{x - 1} + \\frac{J}{x + 1} + \\frac{B x + C}{\\left(x + \\frac{\\sqrt{2}}{2}\\right)^{2} + \\frac{1}{2}} + \\frac{D x + E}{\\left(x - \\frac{\\sqrt{2}}{2}\\right)^{2} + \\frac{1}{2}} + \\frac{F x + G}{x^{2} + 1} + \\frac{H x + I}{\\left(x^{2} + 1\\right)^{2}} = \\frac{- \\frac{\\sqrt{2} x}{8} - \\frac{1}{8}}{\\left(x + \\frac{\\sqrt{2}}{2}\\right)^{2} + \\frac{1}{2}} + \\frac{\\frac{\\sqrt{2} x}{8} - \\frac{1}{8}}{\\left(x - \\frac{\\sqrt{2}}{2}\\right)^{2} + \\frac{1}{2}} - \\frac{3}{8 \\left(x^{2} + 1\\right)} - \\frac{1}{4 \\left(x^{2} + 1\\right)^{2}} - \\frac{1}{16 \\left(x + 1\\right)} + \\frac{1}{16 \\left(x - 1\\right)}$"
      ],
      "text/plain": [
       "                                                                                                                  √2⋅x   1       √2⋅x   1                                 \n",
       "                                                                                                                - ──── - ─       ──── - ─                                 \n",
       "        1                   1             A       J        B⋅x + C         D⋅x + E      F⋅x + G    H⋅x + I         8     8        8     8         3             1         \n",
       "───────────────── = ───────────────── = ───── + ───── + ───────────── + ───────────── + ─────── + ───────── = ───────────── + ───────────── - ────────── - ─────────── - ─\n",
       "⎛ 2    ⎞ ⎛ 8    ⎞   ⎛ 2    ⎞ ⎛ 8    ⎞   x - 1   x + 1           2               2         2               2           2               2         ⎛ 2    ⎞             2   1\n",
       "⎝x  + 1⎠⋅⎝x  - 1⎠   ⎝x  + 1⎠⋅⎝x  - 1⎠                   ⎛    √2⎞    1   ⎛    √2⎞    1    x  + 1   ⎛ 2    ⎞    ⎛    √2⎞    1   ⎛    √2⎞    1   8⋅⎝x  + 1⎠     ⎛ 2    ⎞     \n",
       "                                                        ⎜x + ──⎟  + ─   ⎜x - ──⎟  + ─             ⎝x  + 1⎠    ⎜x + ──⎟  + ─   ⎜x - ──⎟  + ─                4⋅⎝x  + 1⎠     \n",
       "                                                        ⎝    2 ⎠    2   ⎝    2 ⎠    2                         ⎝    2 ⎠    2   ⎝    2 ⎠    2                               \n",
       "\n",
       "                      \n",
       "                      \n",
       "   1            1     \n",
       "───────── + ──────────\n",
       "6⋅(x + 1)   16⋅(x - 1)\n",
       "                      \n",
       "                      \n",
       "                      "
      ]
     },
     "metadata": {},
     "output_type": "display_data"
    },
    {
     "name": "stdout",
     "output_type": "stream",
     "text": [
      "factors: {x - 1: 1, x - I: 2, x + sqrt(2)/2 - sqrt(2)*I/2: 1, x + sqrt(2)/2 + sqrt(2)*I/2: 1, x - sqrt(2)/2 - sqrt(2)*I/2: 1, x - sqrt(2)/2 + sqrt(2)*I/2: 1, x + I: 2, x + 1: 1}, Solution: {A: 1/16, B: -sqrt(2)/8, C: -1/8, D: sqrt(2)/8, E: -1/8, F: 0, G: -3/8, H: 0, I: -1/4, J: -1/16}\n"
     ]
    },
    {
     "data": {
      "image/png": "[encoded data removed]",
      "text/latex": [
       "$\\displaystyle \\int \\left(\\frac{- \\frac{\\sqrt{2} x}{8} - \\frac{1}{8}}{\\left(x + \\frac{\\sqrt{2}}{2}\\right)^{2} + \\frac{1}{2}} + \\frac{\\frac{\\sqrt{2} x}{8} - \\frac{1}{8}}{\\left(x - \\frac{\\sqrt{2}}{2}\\right)^{2} + \\frac{1}{2}} - \\frac{3}{8 \\left(x^{2} + 1\\right)} - \\frac{1}{4 \\left(x^{2} + 1\\right)^{2}} - \\frac{1}{16 \\left(x + 1\\right)} + \\frac{1}{16 \\left(x - 1\\right)}\\right)\\, dx = c - \\frac{x}{8 x^{2} + 8} + \\frac{\\log{\\left(x - 1 \\right)}}{16} - \\frac{\\log{\\left(x + 1 \\right)}}{16} + \\frac{\\sqrt{2} \\log{\\left(x^{2} - \\sqrt{2} x + 1 \\right)}}{16} - \\frac{\\sqrt{2} \\log{\\left(x^{2} + \\sqrt{2} x + 1 \\right)}}{16} - \\frac{\\operatorname{atan}{\\left(x \\right)}}{2}$"
      ],
      "text/plain": [
       "⌠                                                                                                                                                                         \n",
       "⎮ ⎛    √2⋅x   1       √2⋅x   1                                                       ⎞                                                                                    \n",
       "⎮ ⎜  - ──── - ─       ──── - ─                                                       ⎟                                                     ⎛ 2           ⎞         ⎛ 2    \n",
       "⎮ ⎜     8     8        8     8         3             1            1            1     ⎟             x       log(x - 1)   log(x + 1)   √2⋅log⎝x  - √2⋅x + 1⎠   √2⋅log⎝x  + √\n",
       "⎮ ⎜───────────── + ───────────── - ────────── - ─────────── - ────────── + ──────────⎟ dx = c - ──────── + ────────── - ────────── + ───────────────────── - ─────────────\n",
       "⎮ ⎜        2               2         ⎛ 2    ⎞             2   16⋅(x + 1)   16⋅(x - 1)⎟             2           16           16                 16                      16 \n",
       "⎮ ⎜⎛    √2⎞    1   ⎛    √2⎞    1   8⋅⎝x  + 1⎠     ⎛ 2    ⎞                           ⎟          8⋅x  + 8                                                                  \n",
       "⎮ ⎜⎜x + ──⎟  + ─   ⎜x - ──⎟  + ─                4⋅⎝x  + 1⎠                           ⎟                                                                                    \n",
       "⎮ ⎝⎝    2 ⎠    2   ⎝    2 ⎠    2                                                     ⎠                                                                                    \n",
       "⌡                                                                                                                                                                         \n",
       "\n",
       "                  \n",
       "                  \n",
       "       ⎞          \n",
       "2⋅x + 1⎠   atan(x)\n",
       "──────── - ───────\n",
       "              2   \n",
       "                  \n",
       "                  \n",
       "                  \n",
       "                  "
      ]
     },
     "metadata": {},
     "output_type": "display_data"
    }
   ],
   "source": [
    "def get_factors(q):\n",
    "    _, factors = sympy.factor_list(q, x, extension=[sympy.I, sympy.sqrt(2)])\n",
    "    result = {}\n",
    "    for factor in factors:\n",
    "        if factor[0] in result:\n",
    "            result[factor[0]] += factor[1]\n",
    "        else:\n",
    "            result[factor[0]] = factor[1]\n",
    "    return result\n",
    "\n",
    "def get_term(factors):\n",
    "    letters = map(chr, range(65, 123))\n",
    "    symbols = []\n",
    "    term = 0\n",
    "    for fact, mult in factors.items():\n",
    "        nst = solve(fact - x- a, a)[0]\n",
    "        if nst.is_real:\n",
    "            for i in range(mult):\n",
    "                symbol = sympy.Symbol(next(letters))\n",
    "                term += symbol / (fact**(i+1))\n",
    "                symbols.append(symbol)\n",
    "        elif sympy.im(nst) > 0:\n",
    "            result = solve(fact * sympy.conjugate(fact) - ((x-b)**2 - c), b,c, dict=True)[0]\n",
    "            beta, gamma = result[b], result[c]\n",
    "            for i in range(mult):\n",
    "                A = sympy.Symbol(next(letters))\n",
    "                B = sympy.Symbol(next(letters))\n",
    "                symbols.append(A)\n",
    "                symbols.append(B)\n",
    "                term += (A*x+B)/(((x-beta)**2-gamma))**(i+1)\n",
    "    return term, symbols\n",
    "\n",
    "\n",
    "for f, q in exercises:\n",
    "    r, p = sympy.div(f(x), q(x), domain ='QQ')\n",
    "    factors = get_factors(q(x))\n",
    "    term, symbols = get_term(factors)\n",
    "    print(\"Term:\")\n",
    "    solution = solve(term - p/q(x), symbols, dict=True)[0]\n",
    "    display(sympy.Eq(f(x) / q(x), sympy.Eq(r+p/q(x), sympy.Eq(r+term, r+term.subs(solution), evaluate=False), evaluate=False), evaluate=False))\n",
    "    print(f\"factors: {factors}, Solution: {solution}\")\n",
    "    integral = sympy.integrate(r+term.subs(solution), x)\n",
    "    display(sympy.Eq(sympy.Integral(r+term.subs(solution), x), integral + c, evaluate=False))"
   ]
  },
  {
   "cell_type": "code",
   "execution_count": 9,
   "id": "c157c362-18d0-4c21-bc5e-587973016cbd",
   "metadata": {},
   "outputs": [],
   "source": [
    "f = lambda x: x**2\n",
    "\n",
    "def run_with_one(func):\n",
    "    return func(1)"
   ]
  },
  {
   "cell_type": "code",
   "execution_count": 15,
   "id": "d7701daa-d34f-459c-a216-4bde58cecf8e",
   "metadata": {},
   "outputs": [
    {
     "data": {
      "image/png": "[encoded data removed]",
      "text/latex": [
       "$\\displaystyle 2$"
      ],
      "text/plain": [
       "2"
      ]
     },
     "execution_count": 15,
     "metadata": {},
     "output_type": "execute_result"
    }
   ],
   "source": [
    "def d(func):\n",
    "    def result(x):\n",
    "        return func(1+x)\n",
    "    return result\n",
    "\n",
    "@d\n",
    "def test(x):\n",
    "    return x\n",
    "\n",
    "test(1)"
   ]
  },
  {
   "cell_type": "code",
   "execution_count": 12,
   "id": "898f773f-63d2-4f90-a2f7-8b2911bc3c57",
   "metadata": {},
   "outputs": [
    {
     "data": {
      "image/png": "[encoded data removed]",
      "text/latex": [
       "$\\displaystyle 2$"
      ],
      "text/plain": [
       "2"
      ]
     },
     "execution_count": 12,
     "metadata": {},
     "output_type": "execute_result"
    }
   ],
   "source": [
    "run_with_one(lambda x: x+1)"
   ]
  },
  {
   "cell_type": "code",
   "execution_count": 10,
   "id": "34adc95c-5c92-402c-badd-c322c27fbb15",
   "metadata": {},
   "outputs": [],
   "source": [
    "letters = map(chr, range(65, 65+26))"
   ]
  },
  {
   "cell_type": "code",
   "execution_count": 8,
   "id": "8110729a-e550-449b-b063-af0be94360c9",
   "metadata": {},
   "outputs": [
    {
     "data": {
      "text/plain": [
       "'A'"
      ]
     },
     "execution_count": 8,
     "metadata": {},
     "output_type": "execute_result"
    }
   ],
   "source": [
    "next(letters)"
   ]
  },
  {
   "cell_type": "code",
   "execution_count": 11,
   "id": "a5c51200-7c88-4a09-a4d7-ca3a7de6475f",
   "metadata": {},
   "outputs": [
    {
     "name": "stdout",
     "output_type": "stream",
     "text": [
      "A\n",
      "B\n",
      "C\n",
      "D\n",
      "E\n",
      "F\n",
      "G\n",
      "H\n",
      "I\n",
      "J\n",
      "K\n",
      "L\n",
      "M\n",
      "N\n",
      "O\n",
      "P\n",
      "Q\n",
      "R\n",
      "S\n",
      "T\n",
      "U\n",
      "V\n",
      "W\n",
      "X\n",
      "Y\n",
      "Z\n"
     ]
    }
   ],
   "source": [
    "for c in letters:\n",
    "    print(c)"
   ]
  },
  {
   "cell_type": "code",
   "execution_count": null,
   "id": "1bda09e5-1f64-46d0-bae6-01b63b178ff8",
   "metadata": {},
   "outputs": [],
   "source": []
  }
 ],
 "metadata": {
  "kernelspec": {
   "display_name": "Python (main)",
   "language": "python",
   "name": "main"
  },
  "language_info": {
   "codemirror_mode": {
    "name": "ipython",
    "version": 3
   },
   "file_extension": ".py",
   "mimetype": "text/x-python",
   "name": "python",
   "nbconvert_exporter": "python",
   "pygments_lexer": "ipython3",
   "version": "3.11.6"
  }
 },
 "nbformat": 4,
 "nbformat_minor": 5
}
