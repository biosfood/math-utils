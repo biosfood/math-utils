{
 "cells": [
  {
   "cell_type": "code",
   "execution_count": null,
   "id": "28e11e49-3615-4a78-ae04-0615c32cad48",
   "metadata": {},
   "outputs": [],
   "source": [
    "import sympy\n",
    "from sympy.solvers import solve\n",
    "from sympy.abc import y,z, a, b, c\n",
    "x = sympy.Symbol(\"x\", real=True)\n",
    "from IPython.display import display\n",
    "sympy.init_printing()"
   ]
  },
  {
   "cell_type": "code",
   "execution_count": null,
   "id": "3ccb78ad-504f-496e-99bf-fa618e88f5b4",
   "metadata": {},
   "outputs": [],
   "source": [
    "exercises = [\n",
    "    (lambda x: x**3, lambda x: (x-1)),\n",
    "    (lambda x: x**4+x**2, lambda x: x**4-1),\n",
    "    (lambda x: x**2+x+1, lambda x: x**2+1),\n",
    "    (lambda x: 8*x, lambda x: (x**2-1)*(x-1)**2),\n",
    "    (lambda x: 1, lambda x: (x**8-1)*(x**2+1))\n",
    "]"
   ]
  },
  {
   "cell_type": "code",
   "execution_count": null,
   "id": "649852cf-8c9e-4a37-ac82-2cb818384028",
   "metadata": {},
   "outputs": [],
   "source": [
    "def get_factors(q):\n",
    "    _, factors = sympy.factor_list(q, x, extension=[sympy.I, sympy.sqrt(2)])\n",
    "    result = {}\n",
    "    for factor in factors:\n",
    "        if factor[0] in result:\n",
    "            result[factor[0]] += factor[1]\n",
    "        else:\n",
    "            result[factor[0]] = factor[1]\n",
    "    return result\n",
    "\n",
    "def get_term(factors):\n",
    "    letters = map(chr, range(65, 123))\n",
    "    symbols = []\n",
    "    term = 0\n",
    "    for fact, mult in factors.items():\n",
    "        nst = solve(fact - x- a, a)[0]\n",
    "        if nst.is_real:\n",
    "            for i in range(mult):\n",
    "                symbol = sympy.Symbol(next(letters))\n",
    "                term += symbol / (fact**(i+1))\n",
    "                symbols.append(symbol)\n",
    "        elif sympy.im(nst) > 0:\n",
    "            result = solve(fact * sympy.conjugate(fact) - ((x-b)**2 - c), b,c, dict=True)[0]\n",
    "            beta, gamma = result[b], result[c]\n",
    "            for i in range(mult):\n",
    "                A = sympy.Symbol(next(letters))\n",
    "                B = sympy.Symbol(next(letters))\n",
    "                symbols.append(A)\n",
    "                symbols.append(B)\n",
    "                term += (A*x+B)/(((x-beta)**2-gamma))**(i+1)\n",
    "    return term, symbols\n",
    "\n",
    "\n",
    "for f, q in exercises:\n",
    "    r, p = sympy.div(f(x), q(x), domain ='QQ')\n",
    "    factors = get_factors(q(x))\n",
    "    term, symbols = get_term(factors)\n",
    "    print(\"Term:\")\n",
    "    solution = solve(term - p/q(x), symbols, dict=True)[0]\n",
    "    display(sympy.Eq(f(x) / q(x), sympy.Eq(r+p/q(x), sympy.Eq(r+term, r+term.subs(solution), evaluate=False), evaluate=False), evaluate=False))\n",
    "    print(f\"factors: {factors}, Solution: {solution}\")\n",
    "    integral = sympy.integrate(r+term.subs(solution), x)\n",
    "    display(sympy.Eq(sympy.Integral(r+term.subs(solution), x), integral + c, evaluate=False))"
   ]
  }
 ],
 "metadata": {
  "kernelspec": {
   "display_name": "Python (main)",
   "language": "python",
   "name": "main"
  },
  "language_info": {
   "codemirror_mode": {
    "name": "ipython",
    "version": 3
   },
   "file_extension": ".py",
   "mimetype": "text/x-python",
   "name": "python",
   "nbconvert_exporter": "python",
   "pygments_lexer": "ipython3",
   "version": "3.11.6"
  }
 },
 "nbformat": 4,
 "nbformat_minor": 5
}
